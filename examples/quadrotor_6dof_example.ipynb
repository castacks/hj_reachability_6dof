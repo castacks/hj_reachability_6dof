{
 "cells": [
  {
   "cell_type": "markdown",
   "metadata": {},
   "source": [
    "# 6-DOF Quadrotor Reachability Analysis\n",
    "\n",
    "This notebook demonstrates how to use the Hamilton-Jacobi reachability analysis for a 6-DOF quadrotor system using differentially flat outputs.\n",
    "\n",
    "We'll analyze:\n",
    "1. Safe landing regions\n",
    "2. Reachable sets for position control\n",
    "3. Safe flight corridors"
   ]
  },
  {
   "cell_type": "code",
   "execution_count": null,
   "metadata": {},
   "outputs": [],
   "source": [
    "import jax\n",
    "import jax.numpy as jnp\n",
    "import numpy as np\n",
    "import matplotlib.pyplot as plt\n",
    "from mpl_toolkits.mplot3d import Axes3D\n",
    "import plotly.graph_objects as go\n",
    "\n",
    "import hj_reachability as hj\n",
    "from hj_reachability.systems.quadrotor_6dof import Quadrotor6DOF"
   ]
  },
  {
   "cell_type": "markdown",
   "metadata": {},
   "source": [
    "## 1. System Setup\n",
    "\n",
    "First, let's create our quadrotor system and define the computational grid."
   ]
  },
  {
   "cell_type": "code",
   "execution_count": null,
   "metadata": {},
   "outputs": [],
   "source": [
    "# Create quadrotor system\n",
    "quad = Quadrotor6DOF(\n",
    "    max_velocity=5.0,        # m/s\n",
    "    max_acceleration=5.0,    # m/s^2\n",
    "    max_yaw_rate=3.14,      # rad/s\n",
    "    max_yaw_accel=3.14,     # rad/s^2\n",
    "    control_mode=\"min\"      # minimize time to reach target\n",
    ")\n",
    "\n",
    "# Define grid parameters\n",
    "# Note: We use a coarse grid for demonstration. Increase resolution for better results.\n",
    "grid = hj.Grid.from_lattice_parameters_and_boundary_conditions(\n",
    "    domain=hj.sets.Box(\n",
    "        lo=np.array([-5., -5., -5., -5., -5., -5., -np.pi, -3.14]),  # [x,y,z,vx,vy,vz,psi,psi_dot]\n",
    "        hi=np.array([5., 5., 5., 5., 5., 5., np.pi, 3.14])\n",
    "    ),\n",
    "    shape=(15, 15, 15, 11, 11, 11, 8, 8),  # Grid resolution\n",
    "    periodic_dims=6  # yaw is periodic\n",
    ")"
   ]
  },
  {
   "cell_type": "markdown",
   "metadata": {},
   "source": [
    "## 2. Safe Landing Analysis\n",
    "\n",
    "Let's compute the backward reachable tube (BRT) for safe landing conditions.\n",
    "We define \"safe landing\" as reaching a small region near the origin with near-zero velocity."
   ]
  },
  {
   "cell_type": "code",
   "execution_count": null,
   "metadata": {},
   "outputs": [],
   "source": [
    "def create_landing_target(grid, position_radius=0.5, velocity_threshold=0.5):\n",
    "    \"\"\"Create target set for safe landing.\"\"\"\n",
    "    # Distance from origin in position space\n",
    "    position_distance = jnp.linalg.norm(grid.states[..., :3], axis=-1)\n",
    "    \n",
    "    # Velocity magnitude\n",
    "    velocity_magnitude = jnp.linalg.norm(grid.states[..., 3:6], axis=-1)\n",
    "    \n",
    "    # Combine conditions: inside position radius AND low velocity\n",
    "    return jnp.maximum(position_distance - position_radius,\n",
    "                      velocity_magnitude - velocity_threshold)\n",
    "\n",
    "# Create initial value function (negative inside target set)\n",
    "initial_values = create_landing_target(grid)\n",
    "\n",
    "# Configure solver\n",
    "solver_settings = hj.SolverSettings.with_accuracy(\n",
    "    \"medium\",\n",
    "    hamiltonian_postprocessor=hj.solver.backwards_reachable_tube\n",
    ")\n",
    "\n",
    "# Solve backward reachability\n",
    "times = jnp.linspace(0, -2.0, 41)  # 2 second time horizon\n",
    "values = hj.solve(solver_settings, quad, grid, times, initial_values)"
   ]
  },
  {
   "cell_type": "markdown",
   "metadata": {},
   "source": [
    "## 3. Visualize Results\n",
    "\n",
    "Let's visualize slices of the reachable set at different velocities and yaw angles."
   ]
  },
  {
   "cell_type": "code",
   "execution_count": null,
   "metadata": {},
   "outputs": [],
   "source": [
    "def plot_position_slice(values, grid, time_index=-1, vx_index=5, vy_index=5, vz_index=5, psi_index=4):\n",
    "    \"\"\"Plot a 3D slice of the value function in position space.\"\"\"\n",
    "    # Extract the slice\n",
    "    slice_values = values[time_index, :, :, :, vx_index, vy_index, vz_index, psi_index]\n",
    "    \n",
    "    # Create the 3D visualization\n",
    "    fig = go.Figure(data=go.Isosurface(\n",
    "        x=grid.states[..., 0].reshape(-1),\n",
    "        y=grid.states[..., 1].reshape(-1),\n",
    "        z=grid.states[..., 2].reshape(-1),\n",
    "        value=slice_values.reshape(-1),\n",
    "        isomin=0,\n",
    "        isomax=0,\n",
    "        surface_count=1,\n",
    "        colorscale='viridis',\n",
    "        caps=dict(x_show=False, y_show=False, z_show=False)\n",
    "    ))\n",
    "    \n",
    "    # Update layout\n",
    "    fig.update_layout(\n",
    "        scene=dict(\n",
    "            xaxis_title='X (m)',\n",
    "            yaxis_title='Y (m)',\n",
    "            zaxis_title='Z (m)'\n",
    "        ),\n",
    "        title=f'Reachable Set at t={times[time_index]:.1f}s'\n",
    "    )\n",
    "    \n",
    "    return fig\n",
    "\n",
    "# Plot the results\n",
    "fig = plot_position_slice(values, grid)\n",
    "fig.show()"
   ]
  },
  {
   "cell_type": "markdown",
   "metadata": {},
   "source": [
    "## 4. Optimal Control Extraction\n",
    "\n",
    "We can extract the optimal control policy from the value function gradient."
   ]
  },
  {
   "cell_type": "code",
   "execution_count": null,
   "metadata": {},
   "outputs": [],
   "source": [
    "def get_optimal_control_at_state(quad, grid, values, state, time_index=-1):\n",
    "    \"\"\"Compute optimal control at a given state.\"\"\"\n",
    "    # Get value function gradient at the state\n",
    "    grad_values = grid.grad_values(values[time_index])\n",
    "    \n",
    "    # Interpolate gradient at the state\n",
    "    costate = grid.interpolate(grad_values, state)\n",
    "    \n",
    "    # Compute optimal control\n",
    "    return quad.get_optimal_control(state, costate)\n",
    "\n",
    "# Example: Compute optimal control at a specific state\n",
    "example_state = jnp.array([2.0, 1.0, 1.0, 0.5, 0.5, 0.5, 0.0, 0.0])\n",
    "optimal_control = get_optimal_control_at_state(quad, grid, values, example_state)\n",
    "print(\"Optimal control at example state:\")\n",
    "print(f\"ax = {optimal_control[0]:.2f} m/s²\")\n",
    "print(f\"ay = {optimal_control[1]:.2f} m/s²\")\n",
    "print(f\"az = {optimal_control[2]:.2f} m/s²\")\n",
    "print(f\"psi_ddot = {optimal_control[3]:.2f} rad/s²\")"
   ]
  },
  {
   "cell_type": "markdown",
   "metadata": {},
   "source": [
    "## 5. Analysis\n",
    "\n",
    "The visualization shows the set of initial states from which the quadrotor can safely reach the landing target within the given time horizon. Points inside the zero level set (surface shown) can reach the target safely, while points outside cannot guarantee safe landing within the time horizon.\n",
    "\n",
    "Key observations:\n",
    "1. The reachable set shape is influenced by the maximum velocity and acceleration constraints\n",
    "2. The set is symmetric due to the symmetric control constraints\n",
    "3. The optimal control values show how to guide the quadrotor toward the target\n",
    "\n",
    "This analysis can be used for:\n",
    "- Safe trajectory planning\n",
    "- Emergency landing verification\n",
    "- Control envelope analysis\n",
    "- Safety verification"
   ]
  }
 ],
 "metadata": {
  "kernelspec": {
   "display_name": "Python 3",
   "language": "python",
   "name": "python3"
  },
  "language_info": {
   "codemirror_mode": {
    "name": "ipython",
    "version": 3
   },
   "file_extension": ".py",
   "mimetype": "text/x-python",
   "name": "python",
   "nbconvert_exporter": "python",
   "pygments_lexer": "ipython3",
   "version": "3.8.10"
  }
 },
 "nbformat": 4,
 "nbformat_minor": 4
}